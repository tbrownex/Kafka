{
 "cells": [
  {
   "cell_type": "code",
   "execution_count": 1,
   "id": "4f7c7c68",
   "metadata": {},
   "outputs": [],
   "source": [
    "import pandas as pd\n",
    "\n",
    "from getConfig import getConfig"
   ]
  },
  {
   "cell_type": "code",
   "execution_count": 2,
   "id": "95997058",
   "metadata": {},
   "outputs": [],
   "source": [
    "cfg = getConfig()"
   ]
  },
  {
   "cell_type": "code",
   "execution_count": 3,
   "id": "4bcbe1ec",
   "metadata": {},
   "outputs": [],
   "source": [
    "loc=cfg['dataLoc']"
   ]
  },
  {
   "cell_type": "code",
   "execution_count": 20,
   "id": "f5331f4a",
   "metadata": {},
   "outputs": [],
   "source": [
    "iterator = pd.read_csv(loc+'clean.csv.gz',\n",
    "                chunksize=1e6)"
   ]
  },
  {
   "cell_type": "code",
   "execution_count": 21,
   "id": "3d30e147",
   "metadata": {},
   "outputs": [],
   "source": [
    "df = next(iterator)"
   ]
  },
  {
   "cell_type": "code",
   "execution_count": 22,
   "id": "b65ef992",
   "metadata": {},
   "outputs": [],
   "source": [
    "labelMap = {'Benign': 0, 'Malicious': 1}"
   ]
  },
  {
   "cell_type": "code",
   "execution_count": 23,
   "id": "158f959f",
   "metadata": {},
   "outputs": [],
   "source": [
    "df['label'] = df['label'].apply(lambda x: labelMap[x])"
   ]
  },
  {
   "cell_type": "code",
   "execution_count": 24,
   "id": "aa841a86",
   "metadata": {},
   "outputs": [],
   "source": [
    "x = df.dtypes\n",
    "\n",
    "cols = x[x=='object']"
   ]
  },
  {
   "cell_type": "code",
   "execution_count": 25,
   "id": "d98abef4",
   "metadata": {},
   "outputs": [
    {
     "data": {
      "text/plain": [
       "Index(['uid', 'id.orig_h', 'id.resp_h', 'proto', 'service', 'duration',\n",
       "       'orig_bytes', 'resp_bytes', 'conn_state', 'local_orig', 'local_resp',\n",
       "       'history'],\n",
       "      dtype='object')"
      ]
     },
     "execution_count": 25,
     "metadata": {},
     "output_type": "execute_result"
    }
   ],
   "source": [
    "cols.index"
   ]
  },
  {
   "cell_type": "code",
   "execution_count": 26,
   "id": "71602c17",
   "metadata": {},
   "outputs": [],
   "source": [
    "strings = df[cols.index]"
   ]
  },
  {
   "cell_type": "code",
   "execution_count": 27,
   "id": "9cf81e26",
   "metadata": {},
   "outputs": [
    {
     "name": "stdout",
     "output_type": "stream",
     "text": [
      "uid                 1000000\n",
      "id.orig_h           15004\n",
      "id.resp_h           591693\n",
      "proto               3\n",
      "service             5\n",
      "duration            16638\n",
      "orig_bytes          170\n",
      "resp_bytes          479\n",
      "conn_state          11\n",
      "local_orig          1\n",
      "local_resp          1\n",
      "history             126\n"
     ]
    }
   ],
   "source": [
    "for col in strings:\n",
    "    print(\"{:<20}{}\".format(col, len(set(strings[col]))))"
   ]
  },
  {
   "cell_type": "code",
   "execution_count": 37,
   "id": "fccde6f7",
   "metadata": {},
   "outputs": [],
   "source": [
    "service = pd.get_dummies(df['service'], prefix='service')\n",
    "proto = pd.get_dummies(df['proto'], prefix='proto')"
   ]
  },
  {
   "cell_type": "code",
   "execution_count": 48,
   "id": "09c99f8d",
   "metadata": {},
   "outputs": [
    {
     "data": {
      "text/plain": [
       "{'OTH', 'REJ', 'RSTO', 'RSTOS0', 'RSTR', 'RSTRH', 'S0', 'S1', 'S2', 'SF', 'SH'}"
      ]
     },
     "execution_count": 48,
     "metadata": {},
     "output_type": "execute_result"
    }
   ],
   "source": [
    "set(df.conn_state)"
   ]
  },
  {
   "cell_type": "code",
   "execution_count": null,
   "id": "29c75685",
   "metadata": {},
   "outputs": [],
   "source": [
    "drop = ['uid', 'orig_bytes', 'resp_bytes', 'duration']"
   ]
  }
 ],
 "metadata": {
  "kernelspec": {
   "display_name": "Python 3 (ipykernel)",
   "language": "python",
   "name": "python3"
  },
  "language_info": {
   "codemirror_mode": {
    "name": "ipython",
    "version": 3
   },
   "file_extension": ".py",
   "mimetype": "text/x-python",
   "name": "python",
   "nbconvert_exporter": "python",
   "pygments_lexer": "ipython3",
   "version": "3.9.15"
  }
 },
 "nbformat": 4,
 "nbformat_minor": 5
}
